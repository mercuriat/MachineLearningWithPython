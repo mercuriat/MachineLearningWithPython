{
  "cells": [
    {
      "cell_type": "markdown",
      "metadata": {
        "id": "view-in-github",
        "colab_type": "text"
      },
      "source": [
        "<a href=\"https://colab.research.google.com/github/mercuriat/MachineLearningWithPython/blob/master/Practical_Python.ipynb\" target=\"_parent\"><img src=\"https://colab.research.google.com/assets/colab-badge.svg\" alt=\"Open In Colab\"/></a>"
      ]
    },
    {
      "cell_type": "code",
      "execution_count": null,
      "metadata": {
        "colab": {
          "base_uri": "https://localhost:8080/"
        },
        "id": "5sF1KAdcJqMF",
        "outputId": "28c8c45f-b304-4348-e4a3-9e86ad82f184"
      },
      "outputs": [
        {
          "output_type": "stream",
          "name": "stdout",
          "text": [
            "200\n"
          ]
        }
      ],
      "source": [
        "length= 10\n",
        "width = 20\n",
        "area = length*width\n",
        "print(area)\n",
        "\n"
      ]
    },
    {
      "cell_type": "markdown",
      "metadata": {
        "id": "YGU_v3UyC0cv"
      },
      "source": [
        "# Basic calculations"
      ]
    },
    {
      "cell_type": "code",
      "execution_count": null,
      "metadata": {
        "colab": {
          "base_uri": "https://localhost:8080/"
        },
        "id": "_tVD7bfOJ-at",
        "outputId": "5c65a879-d66e-4667-b0f1-8420a85260b1"
      },
      "outputs": [
        {
          "name": "stdout",
          "output_type": "stream",
          "text": [
            "10\n"
          ]
        }
      ],
      "source": [
        "amount= 10\n",
        "tax= .06\n",
        "total = amount + amount*tax\n",
        "print(int(total))"
      ]
    },
    {
      "cell_type": "code",
      "source": [],
      "metadata": {
        "id": "IWBfGIY_PUSx"
      },
      "execution_count": null,
      "outputs": []
    },
    {
      "cell_type": "code",
      "execution_count": null,
      "metadata": {
        "colab": {
          "base_uri": "https://localhost:8080/"
        },
        "id": "cILALZ6sKjJU",
        "outputId": "fc5b57a4-4579-4f9c-ba93-740e345de18f"
      },
      "outputs": [
        {
          "data": {
            "text/plain": [
              "106.0"
            ]
          },
          "execution_count": 3,
          "metadata": {},
          "output_type": "execute_result"
        }
      ],
      "source": [
        "amount = 100\n",
        "total = amount + amount*tax\n",
        "total"
      ]
    },
    {
      "cell_type": "code",
      "execution_count": null,
      "metadata": {
        "colab": {
          "base_uri": "https://localhost:8080/"
        },
        "id": "whctzDAyK1B7",
        "outputId": "803ff982-dc84-4a06-83d9-6d9ca95b3453"
      },
      "outputs": [
        {
          "name": "stdout",
          "output_type": "stream",
          "text": [
            "107.0\n"
          ]
        }
      ],
      "source": [
        "amount = 100\n",
        "tax=.07\n",
        "total = amount + amount*tax\n",
        "print(total)"
      ]
    },
    {
      "cell_type": "markdown",
      "metadata": {
        "id": "VqPBHP1uC3zl"
      },
      "source": [
        "# Working with input"
      ]
    },
    {
      "cell_type": "code",
      "execution_count": null,
      "metadata": {
        "colab": {
          "base_uri": "https://localhost:8080/"
        },
        "id": "wVpaWKljLX-A",
        "outputId": "f82b30be-d385-4357-e78b-c12bc51ec6b8"
      },
      "outputs": [
        {
          "name": "stdout",
          "output_type": "stream",
          "text": [
            "Wat is je naam? \n",
            "qe\n",
            "Hallo qe\n",
            "En je leeftijd?\n",
            "98\n",
            "9 decennia oud en 8 jaren.\n"
          ]
        }
      ],
      "source": [
        "import math\n",
        "name= input(\"Wat is je naam? \\n\")\n",
        "greeting='Hallo'\n",
        "print(greeting+ \" \"+ name)\n",
        "age = input(\"En je leeftijd?\\n\")\n",
        "decade = int(age)//10\n",
        "year= int(age)%10\n",
        "print(str(decade)+ \" decennia oud en \"+str(year)+ \" jaren.\")\n"
      ]
    },
    {
      "cell_type": "markdown",
      "metadata": {
        "id": "5Pv6Z67GC9YL"
      },
      "source": [
        "# Conditionals"
      ]
    },
    {
      "cell_type": "code",
      "execution_count": null,
      "metadata": {
        "id": "EAbl8NwZAL5D"
      },
      "outputs": [],
      "source": [
        "temp=input(\"Hoeveel graden is het nu?\\n\")\n",
        "temp=int(temp)\n",
        "forecast=\"rain\"\n",
        "\n",
        "if (temp >30 and temp >= 40) :\n",
        "    print(\"Too hot, stay inside!\")\n",
        "\n",
        "elif ((temp >=20 and temp <=30) and (not forecast==\"rain\")):\n",
        "    print(\"It's okay weather for a walk outside.\")\n",
        "else:\n",
        "    print(\"Too cold or rainy, stay inside!\")\n",
        "\n",
        "print(\"Have a good day!\")\n"
      ]
    },
    {
      "cell_type": "markdown",
      "metadata": {
        "id": "kLZSi1dgDCsp"
      },
      "source": [
        "# Dictionaries"
      ]
    },
    {
      "cell_type": "code",
      "execution_count": null,
      "metadata": {
        "colab": {
          "base_uri": "https://localhost:8080/"
        },
        "id": "q3T5rZ88GGh1",
        "outputId": "9c3c4793-70f4-4e56-d0f8-a7247a4a87f2"
      },
      "outputs": [
        {
          "name": "stdout",
          "output_type": "stream",
          "text": [
            "Dit zijn onze films voor vandaag:\n",
            "\n",
            "Titanic\n",
            "Mr. Santa\n",
            "Mrs. Doubtfire\n",
            "\n",
            "Welke film wil je kijken?\n",
            "Titanic\n",
            "Excellente keuze. Deze speelt om: 11:00 .\n"
          ]
        }
      ],
      "source": [
        "filmprogramma={ 'Titanic': '11:00',\n",
        "               'Mr. Santa':'14:00',\n",
        "               'Mrs. Doubtfire': '16:00'}\n",
        "\n",
        "print('Dit zijn onze films voor vandaag:\\n')\n",
        "for f in filmprogramma:\n",
        "  print(f)\n",
        "\n",
        "keuze= input('\\nWelke film wil je kijken?\\n')\n",
        "showtime=(filmprogramma.get(keuze))\n",
        "\n",
        "if not showtime:\n",
        "  print(\"Deze film heb ik helaas niet teruggevonden :(\")\n",
        "else:\n",
        "  print(\"Excellente keuze. Deze speelt om:\",showtime,'.')"
      ]
    },
    {
      "cell_type": "markdown",
      "metadata": {
        "id": "J9KAiHwlDGZY"
      },
      "source": [
        "# List of lists"
      ]
    },
    {
      "cell_type": "code",
      "execution_count": null,
      "metadata": {
        "colab": {
          "base_uri": "https://localhost:8080/"
        },
        "id": "-HRWuaCLKUfu",
        "outputId": "686d88b7-e569-46b1-e8d2-1144e88a2983"
      },
      "outputs": [
        {
          "name": "stdout",
          "output_type": "stream",
          "text": [
            "boterhammen\n"
          ]
        }
      ],
      "source": [
        "menus = [['ei','cornflakes', 'havermout'],['boterhammen', 'soep'],['pasta', 'rijst', 'soep']]\n",
        "\n",
        "print(menus[1][0])\n"
      ]
    },
    {
      "cell_type": "markdown",
      "metadata": {
        "id": "aIkgsz0GDOOQ"
      },
      "source": [
        "# Dictionary of lists"
      ]
    },
    {
      "cell_type": "code",
      "execution_count": null,
      "metadata": {
        "colab": {
          "base_uri": "https://localhost:8080/"
        },
        "id": "GYIwgIrsLXDq",
        "outputId": "10f95de5-f38b-474f-ad15-355f31af7e5d"
      },
      "outputs": [
        {
          "name": "stdout",
          "output_type": "stream",
          "text": [
            "ontbijt : ['ei', 'boterhammen', 'cornflakes']\n",
            "lunch : ['pasta', 'rijst', 'aardappelen']\n",
            "diner : ['soep', 'boterhammen']\n"
          ]
        }
      ],
      "source": [
        "menu= {\n",
        "    \"ontbijt\": [\"ei\", \"boterhammen\", \"cornflakes\"],\n",
        "    \"lunch\":[\"pasta\", \"rijst\", \"aardappelen\"],\n",
        "    \"diner\": [\"soep\", \"boterhammen\"]\n",
        "}\n",
        "\n",
        "for k,v in menu.items():\n",
        "  print(k,':',v)"
      ]
    },
    {
      "cell_type": "code",
      "execution_count": null,
      "metadata": {
        "colab": {
          "base_uri": "https://localhost:8080/"
        },
        "id": "B2fQ5Bj9M7QX",
        "outputId": "019aee93-b5d6-410b-c0e9-8f62a8cd7008"
      },
      "outputs": [
        {
          "name": "stdout",
          "output_type": "stream",
          "text": [
            "Schuld en Boete is van Dostojevski\n"
          ]
        }
      ],
      "source": [
        "boeken={\n",
        "    \"titel\":\"Schuld en Boete\",\n",
        "    \"auteur\":\"Dostojevski\",\n",
        "    \"genre\": \"drama\"\n",
        "\n",
        "}\n",
        "\n",
        "print(boeken.get('titel'),'is van', boeken.get('auteur'))"
      ]
    },
    {
      "cell_type": "markdown",
      "metadata": {
        "id": "dIRm2IoyDaRq"
      },
      "source": [
        "# Dictionary of lists/list of dictionaries"
      ]
    },
    {
      "cell_type": "code",
      "execution_count": null,
      "metadata": {
        "colab": {
          "base_uri": "https://localhost:8080/"
        },
        "id": "bKxPgtHXOHWQ",
        "outputId": "78dcee0b-e78f-4801-d605-afa18d77a79a"
      },
      "outputs": [
        {
          "name": "stdout",
          "output_type": "stream",
          "text": [
            "Student emails:\n",
            "annie@mail.be\n",
            "jos@mail.be\n",
            "marie@mail.be\n",
            "ernest@mail.be\n"
          ]
        }
      ],
      "source": [
        "contacts={\n",
        "    'number':4 ,\n",
        "    'students':\n",
        "    [\n",
        "        {'name':'Annie', 'email': 'annie@mail.be'},\n",
        "        {'name' :' Jos', 'email': 'jos@mail.be'},\n",
        "        {'name' : 'Marie','email': 'marie@mail.be'},\n",
        "        {'name': 'Ernest', 'email': 'ernest@mail.be'}\n",
        "\n",
        "    ]\n",
        "\n",
        "}\n",
        "\n",
        "print('Student emails:')\n",
        "\n",
        "for s in contacts['students']:\n",
        "  print(s['email'])"
      ]
    },
    {
      "cell_type": "markdown",
      "metadata": {
        "id": "qpYLp5m7DhUU"
      },
      "source": [
        "# Reading JSON"
      ]
    },
    {
      "cell_type": "code",
      "execution_count": null,
      "metadata": {
        "colab": {
          "base_uri": "https://localhost:8080/"
        },
        "id": "R9ptIW4S1wov",
        "outputId": "52103b03-3cd8-4265-d33a-e63a5393af75"
      },
      "outputs": [
        {
          "name": "stdout",
          "output_type": "stream",
          "text": [
            "The people currently in space are:\n",
            "Sergey Prokopyev\n",
            "Dmitry Petelin\n",
            "Frank Rubio\n",
            "Stephen Bowen\n",
            "Warren Hoburg\n",
            "Sultan Alneyadi\n",
            "Andrey Fedyaev\n",
            "Jing Haiping\n",
            "Gui Haichow\n",
            "Zhu Yangzhu\n"
          ]
        }
      ],
      "source": [
        "import requests\n",
        "\n",
        "response = requests.get('http://api.open-notify.org/astros.json')\n",
        "\n",
        "#print(response.text)\n",
        "json=response.json()\n",
        "#print(json)\n",
        "\n",
        "print('The people currently in space are:')\n",
        "for p in json['people']:\n",
        "  print(p['name'])"
      ]
    },
    {
      "cell_type": "markdown",
      "metadata": {
        "id": "nT0L-crQDoHW"
      },
      "source": [
        "# Weather API + clean render JSON"
      ]
    },
    {
      "cell_type": "code",
      "execution_count": null,
      "metadata": {
        "colab": {
          "base_uri": "https://localhost:8080/"
        },
        "id": "GzSamDm6DrlG",
        "outputId": "c3be7922-b705-4f81-84cd-21287da036dd"
      },
      "outputs": [
        {
          "name": "stdout",
          "output_type": "stream",
          "text": [
            "Current Panama temp:\n",
            "26.0\n",
            "Current Panama condition:\n",
            "Partly cloudy\n",
            "So, today's weather in Panama is Partly cloudy and 26.0 degrees.\n"
          ]
        }
      ],
      "source": [
        "import requests\n",
        "import json\n",
        "from IPython.display import HTML\n",
        "\n",
        "render_template = \"\"\"\n",
        "<script src=\"https://rawgit.com/caldwell/renderjson/master/renderjson.js\"></script>\n",
        "<script>\n",
        "renderjson.set_show_to_level(1)\n",
        "document.body.appendChild(renderjson(%s))\n",
        "new ResizeObserver(google.colab.output.resizeIframeToContent).observe(document.body)\n",
        "</script>\n",
        "\"\"\"\n",
        "models.Response._repr_html_ = lambda rsp: render_template % rsp.text\n",
        "\n",
        "def render(jsondict):\n",
        "  return HTML(render_template % json.dumps(jsondict))\n",
        "\n",
        "city= \"Panama\"\n",
        "url=\"http://api.weatherapi.com/v1/current.json?key=617a25bc980a4f2794d205140231808&q=\"+city+\"&aqi=no\"\n",
        "response=requests.get(url)\n",
        "weather_json=response.json()\n",
        "\n",
        "temp= weather_json.get('current').get('temp_c')\n",
        "print(\"Current\",city,\"temp:\")\n",
        "print(temp)\n",
        "\n",
        "condition= weather_json.get('current').get('condition').get('text')\n",
        "print(\"Current\",city,\"condition:\")\n",
        "print(condition)\n",
        "\n",
        "print(\"So, today's weather in\",city,\"is\",condition,\"and\", temp,\"degrees.\")\n",
        "\n",
        "#render(weather_json)"
      ]
    },
    {
      "cell_type": "markdown",
      "metadata": {
        "id": "6kW7rt_OMAsU"
      },
      "source": [
        "# Functions"
      ]
    },
    {
      "cell_type": "code",
      "execution_count": null,
      "metadata": {
        "colab": {
          "base_uri": "https://localhost:8080/"
        },
        "id": "1vuGfu9IMH0T",
        "outputId": "01b6d102-3b04-4745-9734-2567bfd5fb7d"
      },
      "outputs": [
        {
          "name": "stdout",
          "output_type": "stream",
          "text": [
            "Your name is?\n",
            "Sarah\n",
            "Hiya Sarah !\n"
          ]
        }
      ],
      "source": [
        "def greet(name):\n",
        "  print(\"Hiya\",name,\"!\")\n",
        "\n",
        "\n",
        "\n",
        "greet(input(\"Your name is?\\n\"))\n",
        "\n"
      ]
    },
    {
      "cell_type": "code",
      "execution_count": null,
      "metadata": {
        "colab": {
          "base_uri": "https://localhost:8080/"
        },
        "id": "K9JwfTSZXm3B",
        "outputId": "1ccefaee-8c2b-446a-ca24-cfaf25be2dde"
      },
      "outputs": [
        {
          "name": "stdout",
          "output_type": "stream",
          "text": [
            "Player 1: Enter your name\n",
            "Joseph\n",
            "Player 2: Enter your name\n",
            "Shannon\n",
            "9\n",
            "8\n",
            "Joseph wins\n"
          ]
        }
      ],
      "source": [
        "import random\n",
        "\n",
        "#Dice game\n",
        "\n",
        "def diceRoll():\n",
        "  roll=random.randint(1,6)+random.randint(1,6)\n",
        "  return roll\n",
        "\n",
        "def main():\n",
        "  player1=input(\"Player 1: Enter your name\\n\")\n",
        "  player2=input(\"Player 2: Enter your name\\n\")\n",
        "\n",
        "  roll1 = diceRoll()\n",
        "  roll2 = diceRoll()\n",
        "  print(roll1)\n",
        "  print(roll2)\n",
        "\n",
        "  if roll1>roll2:\n",
        "    print(player1,\"wins\")\n",
        "  elif roll1>roll2:\n",
        "    print(player2,\"wins\")\n",
        "  else:\n",
        "    print(\"Tie!\")\n",
        "\n",
        "main()"
      ]
    },
    {
      "cell_type": "markdown",
      "metadata": {
        "id": "YgaazZKIb2zQ"
      },
      "source": [
        "# Classes"
      ]
    },
    {
      "cell_type": "code",
      "execution_count": null,
      "metadata": {
        "colab": {
          "base_uri": "https://localhost:8080/"
        },
        "id": "84ptCsM4bxcG",
        "outputId": "b2998f8a-8b04-4bae-ad71-9c524d1cb557"
      },
      "outputs": [
        {
          "name": "stdout",
          "output_type": "stream",
          "text": [
            "Johnny\n",
            "Greyhound\n",
            "Woof! Woof!\n"
          ]
        }
      ],
      "source": [
        "class Robot_dog:\n",
        "  def __init__(self,name,breed):\n",
        "    self.name= name\n",
        "    self.breed=breed\n",
        "  def bark(self):\n",
        "    print(\"Woof! Woof!\")\n",
        "\n",
        "\n",
        "#Main program\n",
        "\n",
        "myRoboDog=Robot_dog(\"Johnny\",\"Greyhound\")\n",
        "print(myRoboDog.name)\n",
        "print(myRoboDog.breed)\n",
        "myRoboDog.bark()\n"
      ]
    },
    {
      "cell_type": "markdown",
      "metadata": {
        "id": "PIyFVVl5gBX6"
      },
      "source": [
        "# Formatting number values"
      ]
    },
    {
      "cell_type": "code",
      "execution_count": null,
      "metadata": {
        "colab": {
          "base_uri": "https://localhost:8080/"
        },
        "id": "2nxrfgQjdPpc",
        "outputId": "81380a47-1806-4c01-dd07-d20c6f842561"
      },
      "outputs": [
        {
          "name": "stdout",
          "output_type": "stream",
          "text": [
            "\n",
            "Current employees:\n",
            "\n",
            "Maria Theresa\n",
            "Marty Speed\n",
            "José Rio\n",
            "------------------------\n",
            "\n",
            "Paying employees:\n",
            "\n",
            "Paycheck for: Maria Theresa\n",
            "Amount €769.23\n",
            "------------------------\n",
            "Paycheck for: Marty Speed\n",
            "Amount €750.00\n",
            "------------------------\n",
            "Paycheck for: José Rio\n",
            "Amount €865.38\n",
            "------------------------\n"
          ]
        }
      ],
      "source": [
        "class Employee:\n",
        "  def __init__(self,fname,lname,salary):\n",
        "    self.fname=fname\n",
        "    self.lname=lname\n",
        "    self.salary=salary\n",
        "\n",
        "  def calculate_paycheck(self):\n",
        "    return self.salary/52\n",
        "\n",
        "class Company:\n",
        "    def __init__(self):\n",
        "      self.employees=[]\n",
        "\n",
        "    def add_employee(self, new_employee):\n",
        "      self.employees.append(new_employee)\n",
        "\n",
        "    def display_employees(self):\n",
        "      print(\"\\nCurrent employees:\\n\")\n",
        "      for i in self.employees:\n",
        "        print(i.fname,i.lname)\n",
        "      print(\"------------------------\")\n",
        "\n",
        "    def pay_employees(self):\n",
        "      print(\"\\nPaying employees:\\n\")\n",
        "      for i in self.employees:\n",
        "        print(\"Paycheck for:\",i.fname,i.lname)\n",
        "        print(f\"Amount €{i.calculate_paycheck():,.2f}\")\n",
        "        print(\"------------------------\")\n",
        "\n",
        "\n",
        "\n",
        "def main():\n",
        "  my_company=Company()\n",
        "  e1 = Employee(\"Maria\", \"Theresa\",40000)\n",
        "  e2 = Employee(\"Marty\", \"Speed\",39000)\n",
        "  e3 = Employee(\"José\", \"Rio\",45000)\n",
        "  my_company.add_employee(e1)\n",
        "  my_company.add_employee(e2)\n",
        "  my_company.add_employee(e3)\n",
        "\n",
        "  my_company.display_employees()\n",
        "  my_company.pay_employees()\n",
        "\n",
        "  #print(e1.calculate_paycheck())\n",
        "  #print(e2.calculate_paycheck())\n",
        "  #print(e3.calculate_paycheck())\n",
        "\n",
        "main()\n"
      ]
    },
    {
      "cell_type": "markdown",
      "metadata": {
        "id": "FyxY2FCBjtpf"
      },
      "source": [
        "# Inheritance & Overriding"
      ]
    },
    {
      "cell_type": "code",
      "execution_count": null,
      "metadata": {
        "colab": {
          "base_uri": "https://localhost:8080/"
        },
        "id": "2B_mrnrUjpbA",
        "outputId": "9c2979a9-a23a-416a-dd4b-53cb6abc88d2"
      },
      "outputs": [
        {
          "name": "stdout",
          "output_type": "stream",
          "text": [
            "My name is Roger\n",
            "Woof! Woof!\n",
            "Walking ...\n",
            "New position: [6, 0]\n",
            "I like chicken!\n",
            "--------------\n",
            "My name is Tanguy\n",
            "Meow! Meow!\n",
            "Walking ...\n",
            "New position: [20, 0]\n",
            "I like shrimps!\n"
          ]
        }
      ],
      "source": [
        "class Robot:\n",
        "  def __init__(self,name):\n",
        "    self.name=name\n",
        "    self.position=[0,0]\n",
        "    print(\"My name is\",self.name)\n",
        "\n",
        "  def walk(self,x):\n",
        "    print(\"Walking ...\")\n",
        "    self.position[0]=self.position[0]+x\n",
        "    print(\"New position:\",self.position)\n",
        "\n",
        "  def eat():\n",
        "    print(\"Om nom...\")\n",
        "\n",
        "\n",
        "\n",
        "\n",
        "class RoboDog(Robot):\n",
        "  def bark(self):\n",
        "    print(\"Woof! Woof!\")\n",
        "  def eat(self):\n",
        "    print(\"I like chicken!\")\n",
        "\n",
        "\n",
        "class RoboCat(Robot):\n",
        "  def meow(self):\n",
        "    print(\"Meow! Meow!\")\n",
        "  def eat(self):\n",
        "    print(\"I like shrimps!\")\n",
        "\n",
        "\n",
        "\n",
        "def main():\n",
        "  rd1= RoboDog('Roger')\n",
        "  rd1.bark()\n",
        "  rd1.walk(6)\n",
        "  rd1.eat()\n",
        "  print(\"--------------\")\n",
        "  rc1 =RoboCat('Tanguy')\n",
        "  rc1.meow()\n",
        "  rc1.walk(20)\n",
        "  rc1.eat()\n",
        "\n",
        "main()\n"
      ]
    },
    {
      "cell_type": "code",
      "execution_count": null,
      "metadata": {
        "colab": {
          "base_uri": "https://localhost:8080/"
        },
        "id": "cidAejSpnjBh",
        "outputId": "bf62f6cf-0e9e-432a-8183-e677deb08d71"
      },
      "outputs": [
        {
          "name": "stdout",
          "output_type": "stream",
          "text": [
            "\n",
            "Current employees:\n",
            "\n",
            "Maria Theresa\n",
            "Marty Speed\n",
            "José Rio\n",
            "------------------------\n",
            "\n",
            "Paying employees:\n",
            "\n",
            "Paycheck for: Maria Theresa\n",
            "Amount €769.23\n",
            "------------------------\n",
            "Paycheck for: Marty Speed\n",
            "Amount €1,250.00\n",
            "------------------------\n",
            "Paycheck for: José Rio\n",
            "Amount €1,576.92\n",
            "------------------------\n"
          ]
        }
      ],
      "source": [
        "class Employee:\n",
        "  def __init__(self,fname,lname):\n",
        "    self.fname=fname\n",
        "    self.lname=lname\n",
        "\n",
        "\n",
        "\n",
        "class SalaryEmployee(Employee):\n",
        "  def __init__(self,fname,lname,salary):\n",
        "    super().__init__(fname,lname)\n",
        "    self.salary=salary\n",
        "\n",
        "  def calculate_paycheck(self):\n",
        "    return self.salary/52\n",
        "\n",
        "class HourlyEmployee(Employee):\n",
        "  def __init__(self,fname,lname,weekly_hours,hourly_rate):\n",
        "    super().__init__(fname,lname)\n",
        "    self.weekly_hours=weekly_hours\n",
        "    self.hourly_rate=hourly_rate\n",
        "\n",
        "  def calculate_paycheck(self):\n",
        "    return self.weekly_hours*self.hourly_rate\n",
        "\n",
        "\n",
        "class CommissionEmployee(SalaryEmployee):\n",
        "  def __init__(self,fname,lname,salary,sales_num,com_rate):\n",
        "    super().__init__(fname,lname,salary)\n",
        "    self.sales_num=sales_num\n",
        "    self.com_rate=com_rate\n",
        "\n",
        "  def calculate_paycheck(self):\n",
        "    regular_salary=super().calculate_paycheck()\n",
        "    total_commission=self.sales_num*self.com_rate\n",
        "    return regular_salary+total_commission\n",
        "\n",
        "\n",
        "class Company:\n",
        "    def __init__(self):\n",
        "      self.employees=[]\n",
        "\n",
        "    def add_employee(self, new_employee):\n",
        "      self.employees.append(new_employee)\n",
        "\n",
        "    def display_employees(self):\n",
        "      print(\"\\nCurrent employees:\\n\")\n",
        "      for i in self.employees:\n",
        "        print(i.fname,i.lname)\n",
        "      print(\"------------------------\")\n",
        "\n",
        "    def pay_employees(self):\n",
        "      print(\"\\nPaying employees:\\n\")\n",
        "      for i in self.employees:\n",
        "        print(\"Paycheck for:\",i.fname,i.lname)\n",
        "        print(f\"Amount €{i.calculate_paycheck():,.2f}\")\n",
        "        print(\"------------------------\")\n",
        "\n",
        "\n",
        "\n",
        "def main():\n",
        "  my_company=Company()\n",
        "  e1 = SalaryEmployee(\"Maria\", \"Theresa\",40000)\n",
        "  e2 = HourlyEmployee(\"Marty\", \"Speed\",25,50)\n",
        "  e3 = CommissionEmployee(\"José\", \"Rio\",30000,5,200)\n",
        "  my_company.add_employee(e1)\n",
        "  my_company.add_employee(e2)\n",
        "  my_company.add_employee(e3)\n",
        "\n",
        "  my_company.display_employees()\n",
        "  my_company.pay_employees()\n",
        "\n",
        "main()\n"
      ]
    },
    {
      "cell_type": "markdown",
      "metadata": {
        "id": "Zx-6Z0GRFpxR"
      },
      "source": [
        "# Exceptions"
      ]
    },
    {
      "cell_type": "code",
      "execution_count": null,
      "metadata": {
        "colab": {
          "base_uri": "https://localhost:8080/",
          "height": 478
        },
        "id": "6kj3AQgHFr0M",
        "outputId": "26146744-d8d6-4686-84a3-e3fb991cf953"
      },
      "outputs": [
        {
          "name": "stdout",
          "output_type": "stream",
          "text": [
            "14 / 9 is 1 with remainder 5\n",
            "Could not complete this division\n"
          ]
        },
        {
          "ename": "ZeroDivisionError",
          "evalue": "ignored",
          "output_type": "error",
          "traceback": [
            "\u001b[0;31m---------------------------------------------------------------------------\u001b[0m",
            "\u001b[0;31mZeroDivisionError\u001b[0m                         Traceback (most recent call last)",
            "\u001b[0;32m<ipython-input-15-a79ecb79230e>\u001b[0m in \u001b[0;36mremainder_division\u001b[0;34m(a, b)\u001b[0m\n\u001b[1;32m      3\u001b[0m   \u001b[0;32mtry\u001b[0m\u001b[0;34m:\u001b[0m\u001b[0;34m\u001b[0m\u001b[0;34m\u001b[0m\u001b[0m\n\u001b[0;32m----> 4\u001b[0;31m     \u001b[0mresult\u001b[0m\u001b[0;34m=\u001b[0m \u001b[0ma\u001b[0m\u001b[0;34m//\u001b[0m\u001b[0mb\u001b[0m\u001b[0;34m\u001b[0m\u001b[0;34m\u001b[0m\u001b[0m\n\u001b[0m\u001b[1;32m      5\u001b[0m     \u001b[0mremainder\u001b[0m\u001b[0;34m=\u001b[0m\u001b[0ma\u001b[0m\u001b[0;34m%\u001b[0m\u001b[0mb\u001b[0m\u001b[0;34m\u001b[0m\u001b[0;34m\u001b[0m\u001b[0m\n",
            "\u001b[0;31mZeroDivisionError\u001b[0m: integer division or modulo by zero",
            "\nDuring handling of the above exception, another exception occurred:\n",
            "\u001b[0;31mZeroDivisionError\u001b[0m                         Traceback (most recent call last)",
            "\u001b[0;32m<ipython-input-15-a79ecb79230e>\u001b[0m in \u001b[0;36m<cell line: 25>\u001b[0;34m()\u001b[0m\n\u001b[1;32m     23\u001b[0m \u001b[0;34m\u001b[0m\u001b[0m\n\u001b[1;32m     24\u001b[0m \u001b[0;34m\u001b[0m\u001b[0m\n\u001b[0;32m---> 25\u001b[0;31m \u001b[0mmain\u001b[0m\u001b[0;34m(\u001b[0m\u001b[0;34m)\u001b[0m\u001b[0;34m\u001b[0m\u001b[0;34m\u001b[0m\u001b[0m\n\u001b[0m",
            "\u001b[0;32m<ipython-input-15-a79ecb79230e>\u001b[0m in \u001b[0;36mmain\u001b[0;34m()\u001b[0m\n\u001b[1;32m     17\u001b[0m \u001b[0;34m\u001b[0m\u001b[0m\n\u001b[1;32m     18\u001b[0m   \u001b[0;31m#should throw exception\u001b[0m\u001b[0;34m\u001b[0m\u001b[0;34m\u001b[0m\u001b[0m\n\u001b[0;32m---> 19\u001b[0;31m   \u001b[0mremainder_division\u001b[0m\u001b[0;34m(\u001b[0m\u001b[0;36m14\u001b[0m\u001b[0;34m,\u001b[0m\u001b[0;36m0\u001b[0m\u001b[0;34m)\u001b[0m\u001b[0;34m\u001b[0m\u001b[0;34m\u001b[0m\u001b[0m\n\u001b[0m\u001b[1;32m     20\u001b[0m   \u001b[0mprint\u001b[0m\u001b[0;34m(\u001b[0m\u001b[0;34m\"-->Program keeps running, though\"\u001b[0m\u001b[0;34m)\u001b[0m\u001b[0;34m\u001b[0m\u001b[0;34m\u001b[0m\u001b[0m\n\u001b[1;32m     21\u001b[0m \u001b[0;34m\u001b[0m\u001b[0m\n",
            "\u001b[0;32m<ipython-input-15-a79ecb79230e>\u001b[0m in \u001b[0;36mremainder_division\u001b[0;34m(a, b)\u001b[0m\n\u001b[1;32m      8\u001b[0m     \u001b[0mprint\u001b[0m\u001b[0;34m(\u001b[0m\u001b[0;34m\"Could not complete this division\"\u001b[0m\u001b[0;34m)\u001b[0m\u001b[0;34m\u001b[0m\u001b[0;34m\u001b[0m\u001b[0m\n\u001b[1;32m      9\u001b[0m     \u001b[0;32mif\u001b[0m \u001b[0mb\u001b[0m\u001b[0;34m==\u001b[0m\u001b[0;36m0\u001b[0m\u001b[0;34m:\u001b[0m\u001b[0;34m\u001b[0m\u001b[0;34m\u001b[0m\u001b[0m\n\u001b[0;32m---> 10\u001b[0;31m       \u001b[0;32mraise\u001b[0m \u001b[0mZeroDivisionError\u001b[0m\u001b[0;34m\u001b[0m\u001b[0;34m\u001b[0m\u001b[0m\n\u001b[0m\u001b[1;32m     11\u001b[0m \u001b[0;34m\u001b[0m\u001b[0m\n\u001b[1;32m     12\u001b[0m \u001b[0;34m\u001b[0m\u001b[0m\n",
            "\u001b[0;31mZeroDivisionError\u001b[0m: "
          ]
        }
      ],
      "source": [
        "def remainder_division(a,b):\n",
        "\n",
        "  try:\n",
        "    result= a//b\n",
        "    remainder=a%b\n",
        "    print(a,'/',b,\"is\",result,\"with remainder\",remainder)\n",
        "  except:\n",
        "    print(\"Could not complete this division\")\n",
        "    if b==0:\n",
        "      raise ZeroDivisionError\n",
        "\n",
        "\n",
        "def main():\n",
        "  #should work\n",
        "  remainder_division(14,9)\n",
        "\n",
        "\n",
        "  #should throw exception\n",
        "  remainder_division(14,0)\n",
        "  print(\"-->Program keeps running, though\")\n",
        "\n",
        "\n",
        "\n",
        "\n",
        "main()"
      ]
    },
    {
      "cell_type": "markdown",
      "metadata": {
        "id": "E5BmLds8ncMp"
      },
      "source": [
        "# Files"
      ]
    },
    {
      "cell_type": "code",
      "execution_count": null,
      "metadata": {
        "colab": {
          "base_uri": "https://localhost:8080/"
        },
        "id": "eqtBGYHNnbkk",
        "outputId": "fe359310-4f77-4409-a674-d7bd9c684337"
      },
      "outputs": [
        {
          "output_type": "stream",
          "name": "stdout",
          "text": [
            "Do you want add (A) of (F) a term?F\n",
            "Which word would you like to lookup?r\n",
            "File not found\n"
          ]
        }
      ],
      "source": [
        "#Reading\n",
        "def findTerm():\n",
        "  searchterm =input(\"Which word would you like to lookup?\")\n",
        "  found=False\n",
        "\n",
        "  try:\n",
        "    with open ('/content/software_acronyms.txt') as file:\n",
        "      for line in file:\n",
        "        if searchterm in line:\n",
        "          print(line)\n",
        "          found=True\n",
        "          break\n",
        "\n",
        "  except FileNotFoundError as e:\n",
        "    print(\"File not found\")\n",
        "    return\n",
        "\n",
        "  if not found:\n",
        "        print('Did not find that word in this file.')\n",
        "\n",
        "\n",
        "\n",
        "#Writing\n",
        "\n",
        "def addTerm():\n",
        "  newTerm=input(\"Which term would you like to add?\")\n",
        "  newTermDefinition=input(\"What's the definition?\")\n",
        "\n",
        "  with open('newFile','a',encoding='UTF-8') as file:\n",
        "    file.write('\\n'+ newTerm +'--'+newTermDefinition)\n",
        "    print(file)\n",
        "\n",
        "def main():\n",
        "  choice=input(\"Do you want add (A) of (F) a term?\")\n",
        "  if choice == 'F':\n",
        "    findTerm()\n",
        "  elif choice == 'A':\n",
        "    addTerm()\n",
        "  else:\n",
        "    print(\"That choice doesn't exist yet.\")\n",
        "\n",
        "\n",
        "main()"
      ]
    },
    {
      "cell_type": "code",
      "execution_count": null,
      "metadata": {
        "id": "XRh0XrAx5AXz"
      },
      "outputs": [],
      "source": [
        "#Writing\n",
        "\n"
      ]
    },
    {
      "cell_type": "markdown",
      "source": [
        "# File Cleanup"
      ],
      "metadata": {
        "id": "3xPKGyRmlOYS"
      }
    },
    {
      "cell_type": "code",
      "source": [
        "import os\n",
        "folder_original='/content'\n",
        "folder_destination='/content/Cleanedup'\n",
        "\n",
        "os.mkdir(folder_destination)\n",
        "entries=os.scandir(folder_original)\n",
        "\n",
        "for entry in entries:\n",
        "  \"\"\"if os.path.isfile(entry):\n",
        "    print('File:',entry.name)\n",
        "  elif os.path.isdir(entry):\n",
        "    print('Directory:',entry.name)\n",
        "\"\"\"\n",
        "  location_original=os.path.join(folder_original, entry.name)\n",
        "  location_destination=os.path.join(folder_destination, entry.name)\n",
        "  if os.path.isfile(location_original):\n",
        "    #moving files from/to\n",
        "    os.rename(location_original, location_destination)"
      ],
      "metadata": {
        "id": "m0QqySKSlTKn"
      },
      "execution_count": null,
      "outputs": []
    },
    {
      "cell_type": "markdown",
      "source": [
        "# Chat GPT generated code"
      ],
      "metadata": {
        "id": "s6wCL6W39qxq"
      }
    },
    {
      "cell_type": "markdown",
      "source": [],
      "metadata": {
        "id": "GAWybBol9npq"
      }
    },
    {
      "cell_type": "code",
      "source": [
        "import os\n",
        "import shutil\n",
        "\n",
        "# Path to your desktop\n",
        "desktop_path = os.path.expanduser(\"/content\")\n",
        "print (desktop_path)\n",
        "\n",
        "# Dictionary to map file extensions to folder names\n",
        "extension_to_folder = {\n",
        "    \".jpg\": \"Images\",\n",
        "    \".jpeg\": \"Images\",\n",
        "    \".png\": \"Images\",\n",
        "    \".gif\": \"Images\",\n",
        "    \".bmp\": \"Images\",\n",
        "    \".doc\": \"Documents\",\n",
        "    \".docx\": \"Documents\",\n",
        "    \".pdf\": \"Documents\",\n",
        "    \".txt\": \"Documents\",\n",
        "    \".zip\": \"Archives\",\n",
        "    \".rar\": \"Archives\",\n",
        "}\n",
        "\n",
        "def organize_files():\n",
        "    for filename in os.listdir(desktop_path):\n",
        "        file_path = os.path.join(desktop_path, filename)\n",
        "        print(file_path)\n",
        "\n",
        "        if os.path.isfile(file_path):\n",
        "            _, extension = os.path.splitext(filename)\n",
        "            if extension in extension_to_folder:\n",
        "                folder_name = extension_to_folder[extension]\n",
        "                folder_path = os.path.join(desktop_path, folder_name)\n",
        "\n",
        "                if not os.path.exists(folder_path):\n",
        "                    os.mkdir(folder_path)\n",
        "\n",
        "                new_file_path = os.path.join(folder_path, filename)\n",
        "                shutil.move(file_path, new_file_path)\n",
        "                print(f\"Moved '{filename}' to '{folder_name}' folder.\")\n",
        "\n",
        "if __name__ == \"__main__\":\n",
        "    organize_files()"
      ],
      "metadata": {
        "colab": {
          "base_uri": "https://localhost:8080/"
        },
        "id": "5-EDrQcX719A",
        "outputId": "eaac0efe-24c9-474a-f5e7-ec01915bbea0"
      },
      "execution_count": null,
      "outputs": [
        {
          "output_type": "stream",
          "name": "stdout",
          "text": [
            "/content\n",
            "/content/.config\n",
            "/content/folder2\n",
            "/content/Cleanedup\n",
            "/content/doc.doc\n",
            "Moved 'doc.doc' to 'Documents' folder.\n",
            "/content/pdf.pdf\n",
            "Moved 'pdf.pdf' to 'Documents' folder.\n",
            "/content/fle.jpg\n",
            "Moved 'fle.jpg' to 'Images' folder.\n",
            "/content/folder3\n",
            "/content/rar.rar\n",
            "Moved 'rar.rar' to 'Archives' folder.\n",
            "/content/.ipynb_checkpoints\n",
            "/content/folder1\n",
            "/content/file.png\n",
            "Moved 'file.png' to 'Images' folder.\n",
            "/content/zip.zip\n",
            "Moved 'zip.zip' to 'Archives' folder.\n",
            "/content/sample_data\n"
          ]
        }
      ]
    },
    {
      "cell_type": "markdown",
      "metadata": {
        "id": "rcNEupOOfRWF"
      },
      "source": [
        "# Matlab\n",
        "\n",
        "\n",
        "\n"
      ]
    },
    {
      "cell_type": "code",
      "execution_count": null,
      "metadata": {
        "colab": {
          "base_uri": "https://localhost:8080/",
          "height": 524
        },
        "id": "y7GmiGGifVHa",
        "outputId": "6726d13f-c6e9-45d3-ca56-1348479c513b"
      },
      "outputs": [
        {
          "data": {
            "text/plain": [
              "(array([1., 0., 0., 1., 0., 0., 0., 0., 0., 2.]),\n",
              " array([-3. , -1.8, -0.6,  0.6,  1.8,  3. ,  4.2,  5.4,  6.6,  7.8,  9. ]),\n",
              " <BarContainer object of 10 artists>)"
            ]
          },
          "execution_count": 16,
          "metadata": {},
          "output_type": "execute_result"
        },
        {
          "data": {
            "image/png": "[encoded data removed]",
            "text/plain": [
              "<Figure size 640x480 with 1 Axes>"
            ]
          },
          "metadata": {},
          "output_type": "display_data"
        }
      ],
      "source": [
        "import matplotlib.pyplot as plt\n",
        "\n",
        "%matplotlib inline\n",
        "\n",
        "#first example\n",
        "#x=list(range(0,10))\n",
        "#y=list(range(-10,0))\n",
        "\n",
        "#plt.plot(x,y)\n",
        "\n",
        "#second example\n",
        "a=[0,5,15,4]\n",
        "b=[1,9,-3,9]\n",
        "\n",
        "#Zooming in on bits:\n",
        "#plt.axis([4.5,15.5,-3.5,9.5])\n",
        "plt.title('Some figure')\n",
        "plt.xlabel(\"Array A\")\n",
        "plt.ylabel(\"Array B\")\n",
        "\n",
        "#Change the name of values:\n",
        "#plt.xticks((0,5,15,4),('1e','3e','4e','2e'))\n",
        "\n",
        "#Adding color:\n",
        "\n",
        "#plt.plot(a,b, color='yellow')\n",
        "\n",
        "plt.hist(a)\n",
        "plt.hist(b)"
      ]
    },
    {
      "cell_type": "markdown",
      "source": [
        "# Word clouds"
      ],
      "metadata": {
        "id": "4PuFnE0ytXfQ"
      }
    },
    {
      "cell_type": "code",
      "execution_count": null,
      "metadata": {
        "id": "qndK508ggL7f",
        "outputId": "ca383146-ba85-440f-99aa-936cdbb916cc",
        "colab": {
          "base_uri": "https://localhost:8080/"
        }
      },
      "outputs": [
        {
          "output_type": "stream",
          "name": "stdout",
          "text": [
            "File not found\n"
          ]
        }
      ],
      "source": [
        "import matplotlib.pyplot as plt\n",
        "from wordcloud import WordCloud, STOPWORDS\n",
        "#import sys,os\n",
        "\n",
        "#os.chdir(sys.path[0])\n",
        "try:\n",
        "  file=open('/content/File4').read()\n",
        "  stopwords=STOPWORDS\n",
        "\n",
        "  wordC=WordCloud(\n",
        "      background_color='black',\n",
        "      stopwords=stopwords,\n",
        "      height=600,\n",
        "      width=600\n",
        "  )\n",
        "  wordC.generate(file)\n",
        "  wordC.to_file('word-cloud-news.png')\n",
        "except FileNotFoundError as e:\n",
        "  print(\"File not found\")\n"
      ]
    },
    {
      "cell_type": "markdown",
      "source": [
        "# Working with Files"
      ],
      "metadata": {
        "id": "Pnr5aOhmPZIV"
      }
    },
    {
      "cell_type": "markdown",
      "source": [
        "## List a directory"
      ],
      "metadata": {
        "id": "qF-RQFtwNFNN"
      }
    },
    {
      "cell_type": "code",
      "source": [
        "import os\n",
        "\n",
        "#listing all files in a directory\n",
        "def list_dir(fld):\n",
        "  for fn in os.listdir(fld):\n",
        "    print(fn)\n",
        "\n",
        "#/content/sample_data\n",
        "\n",
        "list_dir('/content/sample_data')"
      ],
      "metadata": {
        "colab": {
          "base_uri": "https://localhost:8080/"
        },
        "id": "_o93Ln3zPYQz",
        "outputId": "dd40c797-8dd0-49cc-ea33-89983ade8197"
      },
      "execution_count": null,
      "outputs": [
        {
          "output_type": "stream",
          "name": "stdout",
          "text": [
            "anscombe.json\n",
            "README.md\n",
            "california_housing_test.csv\n",
            "california_housing_train.csv\n",
            "mnist_test.csv\n",
            "mnist_train_small.csv\n"
          ]
        }
      ]
    },
    {
      "cell_type": "markdown",
      "source": [
        "## String methods"
      ],
      "metadata": {
        "id": "84KPcGJ8N4OV"
      }
    },
    {
      "cell_type": "code",
      "source": [
        "import os, fnmatch\n",
        "\n",
        "def ends_with(fld, search):\n",
        "  for fn in os.listdir(fld):\n",
        "    if fn.endswith(search):\n",
        "      print(fn)\n",
        "\n",
        "def starts_with(fld, search):\n",
        "    for fn in os.listdir(fld):\n",
        "      if fn.startswith(search):\n",
        "        print(fn)\n"
      ],
      "metadata": {
        "colab": {
          "base_uri": "https://localhost:8080/"
        },
        "id": "dOAH3_bmOVfX",
        "outputId": "c815e24a-ad69-4c66-ad63-74a8f9141b96"
      },
      "execution_count": null,
      "outputs": [
        {
          "output_type": "stream",
          "name": "stdout",
          "text": [
            "anscombe.json\n",
            "california_housing_test.csv\n",
            "california_housing_train.csv\n"
          ]
        }
      ]
    },
    {
      "cell_type": "markdown",
      "source": [
        "##Pattern matching"
      ],
      "metadata": {
        "id": "K3uvxjhC-bmZ"
      }
    },
    {
      "cell_type": "code",
      "source": [
        "import os, fnmatch\n",
        "\n",
        "def match(fld,search):\n",
        "  for fn in os.listdir(fld):\n",
        "    if fnmatch.fnmatch(fn,search):\n",
        "      print(fn)\n",
        "\n",
        "#ends_with('/content/sample_data', \"json\")\n",
        "#begins_with('/content/sample_data', \"mnist\")\n",
        "match('/content/sample_data', \"*com*\")\n",
        "match('/content/sample_data', \"*forni*.csv\")\n",
        "#search on name joker + being of any filetype:\n",
        "match('/content/sample_data', \"*com*.*\")"
      ],
      "metadata": {
        "colab": {
          "base_uri": "https://localhost:8080/"
        },
        "id": "vrpih3iH-bQl",
        "outputId": "ed4146a4-f2b9-4cf6-c497-76961d726b7e"
      },
      "execution_count": 5,
      "outputs": [
        {
          "output_type": "stream",
          "name": "stdout",
          "text": [
            "california_housing_train.csv\n",
            "california_housing_test.csv\n"
          ]
        }
      ]
    },
    {
      "cell_type": "markdown",
      "source": [
        "## Pattern matching with glob"
      ],
      "metadata": {
        "id": "Ufk05-IT_kJ1"
      }
    },
    {
      "cell_type": "code",
      "source": [
        "#This avoids scanning an entire directory. It looks if the file is in the path\n",
        "import pathlib\n",
        "from pathlib import Path\n",
        "\n",
        "def glob_match(fld, search):\n",
        "  p= Path(fld)\n",
        "  for n in p.glob(search):\n",
        "    print(n)\n",
        "\n",
        "#glob_match('/content/sample_data', '*for*.c*')\n",
        "glob_match('/content/sample_data/subfolder/','*tra*')"
      ],
      "metadata": {
        "colab": {
          "base_uri": "https://localhost:8080/"
        },
        "id": "osTV2Veg_pPC",
        "outputId": "0f412576-8cbb-43b0-e1e1-ab209e981371"
      },
      "execution_count": 10,
      "outputs": [
        {
          "output_type": "stream",
          "name": "stdout",
          "text": [
            "/content/sample_data/subfolder/california_housing_train.csv\n"
          ]
        }
      ]
    }
  ],
  "metadata": {
    "colab": {
      "provenance": [],
      "authorship_tag": "ABX9TyOtpmFylDXqtk8tSmWMO2QJ",
      "include_colab_link": true
    },
    "gpuClass": "standard",
    "kernelspec": {
      "display_name": "Python 3",
      "name": "python3"
    },
    "language_info": {
      "name": "python"
    }
  },
  "nbformat": 4,
  "nbformat_minor": 0
}